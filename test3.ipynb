{
 "cells": [
  {
   "cell_type": "code",
   "execution_count": 1,
   "metadata": {},
   "outputs": [
    {
     "name": "stdout",
     "output_type": "stream",
     "text": [
      "res=11\n"
     ]
    }
   ],
   "source": [
    "x=input(\"enter num\")\n",
    "y=input(\"enter num\")\n",
    "\n",
    "z=int(x)+int(y)\n",
    "print (\"res=\" + str(z))\n"
   ]
  },
  {
   "cell_type": "code",
   "execution_count": 2,
   "metadata": {},
   "outputs": [
    {
     "name": "stdout",
     "output_type": "stream",
     "text": [
      "talos\n"
     ]
    }
   ],
   "source": [
    "print (\"talos\")"
   ]
  },
  {
   "cell_type": "code",
   "execution_count": 3,
   "metadata": {},
   "outputs": [
    {
     "name": "stdout",
     "output_type": "stream",
     "text": [
      "168\n",
      "210\n"
     ]
    }
   ],
   "source": [
    "print(6*4*7)\n",
    "print(7*5*6)"
   ]
  },
  {
   "cell_type": "code",
   "execution_count": 17,
   "metadata": {},
   "outputs": [
    {
     "data": {
      "text/plain": [
       "0"
      ]
     },
     "execution_count": 17,
     "metadata": {},
     "output_type": "execute_result"
    }
   ],
   "source": [
    "# 1-2\n",
    "6*2\n",
    "6+2\n",
    "6/2\n",
    "6//2\n",
    "6%2"
   ]
  },
  {
   "cell_type": "code",
   "execution_count": 19,
   "metadata": {},
   "outputs": [
    {
     "data": {
      "text/plain": [
       "1"
      ]
     },
     "execution_count": 19,
     "metadata": {},
     "output_type": "execute_result"
    }
   ],
   "source": [
    "#3\n",
    "5//2\n",
    "5%2"
   ]
  },
  {
   "cell_type": "code",
   "execution_count": 27,
   "metadata": {},
   "outputs": [
    {
     "data": {
      "text/plain": [
       "0.32653061224489793"
      ]
     },
     "execution_count": 27,
     "metadata": {},
     "output_type": "execute_result"
    }
   ],
   "source": [
    "#4\n",
    "a = 5\n",
    "b = 7\n",
    "c = 6\n",
    "d = 8\n",
    "e = 9\n",
    "f = 4\n",
    "a*c\n",
    "c/b\n",
    "f*b*c*a\n",
    "f/b*c/b/e*c\n"
   ]
  },
  {
   "cell_type": "code",
   "execution_count": 34,
   "metadata": {},
   "outputs": [
    {
     "name": "stdout",
     "output_type": "stream",
     "text": [
      "7 9 sup\n"
     ]
    }
   ],
   "source": [
    "a,b,c = 7,9,\"sup\"\n",
    "print(a,b,c)"
   ]
  },
  {
   "cell_type": "code",
   "execution_count": 49,
   "metadata": {},
   "outputs": [
    {
     "name": "stdout",
     "output_type": "stream",
     "text": [
      "-84\n"
     ]
    }
   ],
   "source": [
    "#6\n",
    "a = -14\n",
    "b = 6\n",
    "c = print(a*b)\n"
   ]
  },
  {
   "cell_type": "code",
   "execution_count": 52,
   "metadata": {},
   "outputs": [
    {
     "name": "stdout",
     "output_type": "stream",
     "text": [
      "15\n"
     ]
    }
   ],
   "source": [
    "#7-8\n",
    "a = 9\n",
    "b = 6\n",
    "\n",
    "\n",
    "sum = (a+b)\n",
    "print(sum)\n"
   ]
  },
  {
   "cell_type": "code",
   "execution_count": 57,
   "metadata": {},
   "outputs": [
    {
     "name": "stdout",
     "output_type": "stream",
     "text": [
      "    a     b c=a+b d=a-b e=a*b f=a/b\n",
      "    7     6    13     1    42 1.1666666666666667\n"
     ]
    }
   ],
   "source": [
    "a = 7\n",
    "b = 6\n",
    "c = a + b\n",
    "d = a - b\n",
    "e = a * b\n",
    "f = a / b\n",
    "print(f\"{'a':>5} {'b':>5} {'c=a+b':>5} {'d=a-b':>5} {'e=a*b':>5} {'f=a/b':>5}\")\n",
    "print(f\"{a:>5} {b:>5} {c:>5} {d:>5} {e:>5} {f:>5}\")\n"
   ]
  },
  {
   "cell_type": "code",
   "execution_count": 66,
   "metadata": {},
   "outputs": [
    {
     "name": "stdout",
     "output_type": "stream",
     "text": [
      "The result is: 3.0\n"
     ]
    }
   ],
   "source": [
    "a = 5\n",
    "b = 4\n",
    "c = 3\n",
    "d = 2\n",
    "e = 1\n",
    "result = a + b - c * d / e\n",
    "print(f\"The result is: {result}\")\n"
   ]
  },
  {
   "cell_type": "code",
   "execution_count": 67,
   "metadata": {},
   "outputs": [
    {
     "name": "stdout",
     "output_type": "stream",
     "text": [
      "The square of 7.4 is: 54.760000000000005\n"
     ]
    }
   ],
   "source": [
    "#12\n",
    "num = 7.4\n",
    "square = num ** 2\n",
    "print(f\"The square of {num} is: {square}\")\n"
   ]
  },
  {
   "cell_type": "code",
   "execution_count": 68,
   "metadata": {},
   "outputs": [
    {
     "name": "stdout",
     "output_type": "stream",
     "text": [
      "    Number     Square\n",
      "         7         49\n",
      "         6         36\n",
      "         5         25\n"
     ]
    }
   ],
   "source": [
    "#14\n",
    "# a = int(input(\"Enter first number: \"))\n",
    "# b = int(input(\"Enter second number: \"))\n",
    "# c = int(input(\"Enter third number: \"))\n",
    "\n",
    "a = 7\n",
    "b = 6\n",
    "c = 5\n",
    "print(f\"{'Number':>10} {'Square':>10}\")\n",
    "print(f\"{a:>10} {a**2:>10}\")\n",
    "print(f\"{b:>10} {b**2:>10}\")\n",
    "print(f\"{c:>10} {c**2:>10}\")\n"
   ]
  },
  {
   "cell_type": "code",
   "execution_count": 70,
   "metadata": {},
   "outputs": [
    {
     "name": "stdout",
     "output_type": "stream",
     "text": [
      "the area of the triangle is: 28.0\n"
     ]
    }
   ],
   "source": [
    "#base = float(input(\"Enter the base of the triangle: \"))\n",
    "#height = float(input(\"Enter the height of the triangle: \"))\n",
    "#area = (base * height) / 2\n",
    "#print(f\"The area of the triangle is: {area}\")\n",
    "\n",
    "base = 8\n",
    "height = 7\n",
    "area = (base * height) / 2\n",
    "print(f\"the area of the triangle is: {area}\")\n"
   ]
  },
  {
   "cell_type": "code",
   "execution_count": 71,
   "metadata": {},
   "outputs": [
    {
     "name": "stdout",
     "output_type": "stream",
     "text": [
      "10111011111\n"
     ]
    }
   ],
   "source": [
    "print(f\"{1503:b}\")"
   ]
  },
  {
   "cell_type": "code",
   "execution_count": 72,
   "metadata": {},
   "outputs": [
    {
     "name": "stdout",
     "output_type": "stream",
     "text": [
      "6 7 13 -1 42 0.8571428571428571\n",
      "    a|    b|c=a+b|d=a-b|e=a*b|f=a/b\n",
      "-----------------------------------\n",
      "6    |7    |13   |-1   |42   |0.8571428571428571\n"
     ]
    }
   ],
   "source": [
    "# 5\n",
    "a = 6\n",
    "b = 7\n",
    "c = a + b\n",
    "d = a - b\n",
    "e = a * b \n",
    "f = a / b\n",
    "print(a,b,c,d,e,f)\n",
    "col_width = 5\n",
    "tableLength = len(f\"{'a':>{col_width}}|{'b':>{col_width}}|{'c=a+b':>{col_width}}|{'d=a-b':>{col_width}}|{'e=a*b':>{col_width}}|{'f=a/b':>{col_width}}\")\n",
    "print(f\"{'a':>{col_width}}|{'b':>{col_width}}|{'c=a+b':>{col_width}}|{'d=a-b':>{col_width}}|{'e=a*b':>{col_width}}|{'f=a/b':>{col_width}}\")\n",
    "print('-'*tableLength)\n",
    "print(f\"{a:<{col_width}}|{b:<{col_width}}|{c:<{col_width}}|{d:<{col_width}}|{e:<{col_width}}|{f:<{col_width}}\")"
   ]
  }
 ],
 "metadata": {
  "kernelspec": {
   "display_name": "Python 3",
   "language": "python",
   "name": "python3"
  },
  "language_info": {
   "codemirror_mode": {
    "name": "ipython",
    "version": 3
   },
   "file_extension": ".py",
   "mimetype": "text/x-python",
   "name": "python",
   "nbconvert_exporter": "python",
   "pygments_lexer": "ipython3",
   "version": "3.12.3"
  }
 },
 "nbformat": 4,
 "nbformat_minor": 2
}
